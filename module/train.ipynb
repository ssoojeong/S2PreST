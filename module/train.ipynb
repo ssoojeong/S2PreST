{
 "cells": [
  {
   "cell_type": "code",
   "execution_count": null,
   "metadata": {},
   "outputs": [],
   "source": [
    "python main.py --base configs/stable-diffusion/v1-finetune.yaml \\\n",
    "            -t \\\n",
    "            --actual_resume ./models/sd/sd-v1-4.ckpt \\\n",
    "            -n pororo \\\n",
    "            --gpus 0, \\\n",
    "            --data_root /userHome/userhome1/sojeong/sing/dataset/pororo"
   ]
  }
 ],
 "metadata": {
  "language_info": {
   "name": "python"
  }
 },
 "nbformat": 4,
 "nbformat_minor": 2
}
